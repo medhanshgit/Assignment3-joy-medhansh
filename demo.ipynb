{
 "cells": [
  {
   "cell_type": "code",
   "execution_count": 5,
   "metadata": {},
   "outputs": [
    {
     "data": {
      "application/vnd.jupyter.widget-view+json": {
       "model_id": "49a05e735b3e4d0ab6c384fe41ac71e9",
       "version_major": 2,
       "version_minor": 0
      },
      "text/plain": [
       "VBox(children=(Dropdown(description='Feature 1:', options=('Mean Radius', 'Mean Texture', 'Mean Perimeter', 'M…"
      ]
     },
     "metadata": {},
     "output_type": "display_data"
    },
    {
     "data": {
      "text/html": [
       "<div>\n",
       "<style scoped>\n",
       "    .dataframe tbody tr th:only-of-type {\n",
       "        vertical-align: middle;\n",
       "    }\n",
       "\n",
       "    .dataframe tbody tr th {\n",
       "        vertical-align: top;\n",
       "    }\n",
       "\n",
       "    .dataframe thead th {\n",
       "        text-align: right;\n",
       "    }\n",
       "</style>\n",
       "<table border=\"1\" class=\"dataframe\">\n",
       "  <thead>\n",
       "    <tr style=\"text-align: right;\">\n",
       "      <th></th>\n",
       "      <th>Mean Radius</th>\n",
       "      <th>Mean Radius</th>\n",
       "    </tr>\n",
       "  </thead>\n",
       "  <tbody>\n",
       "    <tr>\n",
       "      <th>Mean Radius</th>\n",
       "      <td>1.0</td>\n",
       "      <td>1.0</td>\n",
       "    </tr>\n",
       "    <tr>\n",
       "      <th>Mean Radius</th>\n",
       "      <td>1.0</td>\n",
       "      <td>1.0</td>\n",
       "    </tr>\n",
       "  </tbody>\n",
       "</table>\n",
       "</div>"
      ],
      "text/plain": [
       "             Mean Radius  Mean Radius\n",
       "Mean Radius          1.0          1.0\n",
       "Mean Radius          1.0          1.0"
      ]
     },
     "metadata": {},
     "output_type": "display_data"
    },
    {
     "data": {
      "image/png": "[encoded data removed]",
      "text/plain": [
       "<Figure size 640x480 with 2 Axes>"
      ]
     },
     "metadata": {},
     "output_type": "display_data"
    }
   ],
   "source": [
    "import pandas as pd\n",
    "import seaborn as sns\n",
    "import ipywidgets as widgets\n",
    "from IPython.display import display\n",
    "\n",
    "# Load the dataset\n",
    "df = pd.read_csv(\"https://archive.ics.uci.edu/ml/machine-learning-databases/breast-cancer-wisconsin/wdbc.data\", header=None)\n",
    "df.columns = [\"ID\", \"Diagnosis\", \"Mean Radius\", \"Mean Texture\", \"Mean Perimeter\", \"Mean Area\", \"Mean Smoothness\",\n",
    "              \"Mean Compactness\", \"Mean Concavity\", \"Mean Concave Points\", \"Mean Symmetry\", \"Mean Fractal Dimension\",\n",
    "              \"SE Radius\", \"SE Texture\", \"SE Perimeter\", \"SE Area\", \"SE Smoothness\", \"SE Compactness\", \"SE Concavity\",\n",
    "              \"SE Concave Points\", \"SE Symmetry\", \"SE Fractal Dimension\", \"Worst Radius\", \"Worst Texture\",\n",
    "              \"Worst Perimeter\", \"Worst Area\", \"Worst Smoothness\", \"Worst Compactness\", \"Worst Concavity\",\n",
    "              \"Worst Concave Points\", \"Worst Symmetry\", \"Worst Fractal Dimension\"]\n",
    "\n",
    "# Define the sliders\n",
    "feature1_dropdown = widgets.Dropdown(options=list(df.columns[2:]), description='Feature 1:')\n",
    "feature2_dropdown = widgets.Dropdown(options=list(df.columns[2:]), description='Feature 2:')\n",
    "metric_dropdown = widgets.Dropdown(options=['pearson', 'kendall', 'spearman'], description='Metric:')\n",
    "\n",
    "# Define the correlation matrix function\n",
    "def corr_matrix(feature1, feature2, metric):\n",
    "    corr = df[[feature1, feature2]].corr(method=metric)\n",
    "    sns.heatmap(corr, annot=True, cmap='coolwarm')\n",
    "    display(corr)\n",
    "\n",
    "# Define the callback function for the sliders\n",
    "def update_corr_matrix(change):\n",
    "    feature1 = feature1_dropdown.value\n",
    "    feature2 = feature2_dropdown.value\n",
    "    metric = metric_dropdown.value\n",
    "    corr_matrix(feature1, feature2, metric)\n",
    "\n",
    "# Register the callback function with the sliders\n",
    "feature1_dropdown.observe(update_corr_matrix, 'value')\n",
    "feature2_dropdown.observe(update_corr_matrix, 'value')\n",
    "metric_dropdown.observe(update_corr_matrix, 'value')\n",
    "\n",
    "# Display the sliders and initial correlation matrix\n",
    "display(widgets.VBox([feature1_dropdown, feature2_dropdown, metric_dropdown]))\n",
    "corr_matrix(feature1_dropdown.value, feature2_dropdown.value, metric_dropdown.value)\n"
   ]
  }
 ],
 "metadata": {
  "kernelspec": {
   "display_name": "Python 3",
   "language": "python",
   "name": "python3"
  },
  "language_info": {
   "codemirror_mode": {
    "name": "ipython",
    "version": 3
   },
   "file_extension": ".py",
   "mimetype": "text/x-python",
   "name": "python",
   "nbconvert_exporter": "python",
   "pygments_lexer": "ipython3",
   "version": "3.10.2"
  },
  "orig_nbformat": 4
 },
 "nbformat": 4,
 "nbformat_minor": 2
}
